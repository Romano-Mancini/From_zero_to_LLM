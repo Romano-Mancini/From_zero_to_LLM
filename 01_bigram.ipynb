{
 "cells": [
  {
   "cell_type": "code",
   "execution_count": null,
   "metadata": {},
   "outputs": [
    {
     "data": {
      "text/plain": [
       "'\\nA Bigram model is a language model in which we predict the probability of the correctness of a sequence of words by just predicting the occurrence of the word “a” after the word “b”.\\n\\nFor eg: Let us take the sentence “I have a car”\\n\\nprobability of the sequence of these words will be\\n\\n    p(I) * p(have| I) * p(a | have, I) …….\\n\\nIn the Bigram model, we consider that the above equation will give the same result as that of\\n\\n    p(I) * p(have|I) * p(a|have) * p(car|a)\\n'"
      ]
     },
     "execution_count": 1,
     "metadata": {},
     "output_type": "execute_result"
    }
   ],
   "source": [
    "\"\"\"\n",
    "A Bigram model is a language model in which we predict the probability of the correctness of a sequence of words by just predicting the occurrence of the word “a” after the word “b”.\n",
    "\n",
    "For eg: Let us take the sentence “I have a car”\n",
    "\n",
    "probability of the sequence of these words will be\n",
    "\n",
    "    p(I) * p(have| I) * p(a | have, I) ...\n",
    "\n",
    "In the Bigram model, we consider that the above equation will give the same result as that of\n",
    "\n",
    "    p(I) * p(have|I) * p(a|have) * p(car|a)\n",
    "\"\"\""
   ]
  },
  {
   "cell_type": "code",
   "execution_count": 11,
   "metadata": {},
   "outputs": [
    {
     "name": "stdout",
     "output_type": "stream",
     "text": [
      "tensor([ 0,  1,  2,  3,  4,  5,  6,  7,  8,  9, 10, 11, 12, 13, 14, 15, 16, 17,\n",
      "        18, 19, 20, 21, 22, 23, 24, 25, 26, 27, 28, 29, 30, 31, 32, 33, 34, 35,\n",
      "        36, 37, 38, 39, 40, 41, 42, 43, 44, 45, 46, 47, 48, 49, 50, 51, 52, 53,\n",
      "        54, 55, 56, 57, 58, 59, 60, 61, 62, 63, 64, 65, 66, 67])\n",
      "[56, 41, 55, 56, 2]\n",
      "test!\n"
     ]
    }
   ],
   "source": [
    "import torch\n",
    "\n",
    "# Obtain the characters\n",
    "with open(\"datasets/the_wizard_of_oz.txt\", \"r\", encoding=\"utf-8\") as file:\n",
    "    text = file.read()\n",
    "    text = sorted(set(text))\n",
    "    \n",
    "# (Character level) Encoder:\n",
    "string_to_int = { ch:i for i, ch in enumerate(text) }\n",
    "encode = lambda s: [string_to_int[c] for c in s]\n",
    "# (Character level) Decoder:\n",
    "int_to_string = { i:ch for i, ch in enumerate(text) }\n",
    "decode = lambda l: ''.join([int_to_string[i] for i in l])\n",
    "\n",
    "# More optimized way to work with the data\n",
    "data = torch.tensor(encode(text), dtype=torch.long)\n",
    "print(data)\n",
    "\n",
    "# Small vocabulary, but big amount of samples\n",
    "print(encode(\"test!\"))\n",
    "print(decode([56, 41, 55, 56, 2]))"
   ]
  },
  {
   "cell_type": "code",
   "execution_count": null,
   "metadata": {},
   "outputs": [],
   "source": []
  }
 ],
 "metadata": {
  "kernelspec": {
   "display_name": "Python 3",
   "language": "python",
   "name": "python3"
  },
  "language_info": {
   "codemirror_mode": {
    "name": "ipython",
    "version": 3
   },
   "file_extension": ".py",
   "mimetype": "text/x-python",
   "name": "python",
   "nbconvert_exporter": "python",
   "pygments_lexer": "ipython3",
   "version": "3.10.12"
  }
 },
 "nbformat": 4,
 "nbformat_minor": 2
}
