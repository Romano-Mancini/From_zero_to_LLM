{
 "cells": [
  {
   "cell_type": "markdown",
   "metadata": {},
   "source": [
    "A Bigram model is a language model in which we predict the probability of the correctness of a sequence of words by just predicting the occurrence of the word “a” after the word “b”.\n",
    "\n",
    "For eg: Let us take the sentence “I have a car”\n",
    "\n",
    "probability of the sequence of these words will be\n",
    "\n",
    "p(I) * p(have| I) * p(a | have, I) ..."
   ]
  },
  {
   "cell_type": "code",
   "execution_count": 14,
   "metadata": {},
   "outputs": [
    {
     "name": "stdout",
     "output_type": "stream",
     "text": [
      "[29, 66, 60, 29, 11]\n",
      "test!\n"
     ]
    }
   ],
   "source": [
    "import torch\n",
    "\n",
    "# Obtain the characters\n",
    "with open(\"../datasets/the_wizard_of_oz.txt\", \"r\", encoding=\"utf-8\") as file:\n",
    "    text = file.read()\n",
    "    text = set(text)\n",
    "    \n",
    "# (Character level) Encoder:\n",
    "string_to_int = { ch:i for i, ch in enumerate(text) }\n",
    "encode = lambda s: [string_to_int[c] for c in s]\n",
    "# (Character level) Decoder:\n",
    "int_to_string = { i:ch for i, ch in enumerate(text) }\n",
    "decode = lambda l: ''.join([int_to_string[i] for i in l])\n",
    "\n",
    "# Small vocabulary, but big amount of samples\n",
    "print(encode(\"test!\"))\n",
    "print(decode([29, 66, 60, 29, 11]))"
   ]
  },
  {
   "cell_type": "code",
   "execution_count": 15,
   "metadata": {},
   "outputs": [],
   "source": [
    "# More optimized way to work with the data\n",
    "data = torch.tensor(encode(text), dtype=torch.long)\n",
    "\n",
    "# Hyperparameters: block_size is the length of the sequence that we are going to use to predict the next character\n",
    "#                  batch_size is the number of sequences that we are going to parallelly process\n",
    "block_size = int(data.size(0))//2\n",
    "batch_size = 4\n",
    "\n",
    "training_set = data[:block_size]\n",
    "validation_set = data[block_size:]"
   ]
  },
  {
   "cell_type": "code",
   "execution_count": null,
   "metadata": {},
   "outputs": [],
   "source": []
  }
 ],
 "metadata": {
  "language_info": {
   "name": "python"
  }
 },
 "nbformat": 4,
 "nbformat_minor": 2
}
